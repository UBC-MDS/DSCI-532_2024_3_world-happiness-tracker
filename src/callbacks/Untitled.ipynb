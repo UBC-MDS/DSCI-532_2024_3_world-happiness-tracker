{
 "cells": [
  {
   "cell_type": "code",
   "execution_count": 20,
   "id": "8f52c821-5198-41a8-a510-860c0e5db41c",
   "metadata": {},
   "outputs": [],
   "source": [
    "import pandas as pd"
   ]
  },
  {
   "cell_type": "code",
   "execution_count": 21,
   "id": "e6fbaa1e-ceea-421a-b109-bb70ad3ccd5e",
   "metadata": {},
   "outputs": [],
   "source": [
    "test = pd.DataFrame({'deez': [1, 2, 3], 'nuts': ['ok', 'a', 'al']})"
   ]
  },
  {
   "cell_type": "code",
   "execution_count": 22,
   "id": "765e874a-0551-4fb0-b568-1f2e7ebeef8e",
   "metadata": {},
   "outputs": [
    {
     "data": {
      "text/html": [
       "<div>\n",
       "<style scoped>\n",
       "    .dataframe tbody tr th:only-of-type {\n",
       "        vertical-align: middle;\n",
       "    }\n",
       "\n",
       "    .dataframe tbody tr th {\n",
       "        vertical-align: top;\n",
       "    }\n",
       "\n",
       "    .dataframe thead th {\n",
       "        text-align: right;\n",
       "    }\n",
       "</style>\n",
       "<table border=\"1\" class=\"dataframe\">\n",
       "  <thead>\n",
       "    <tr style=\"text-align: right;\">\n",
       "      <th></th>\n",
       "      <th>deez</th>\n",
       "      <th>nuts</th>\n",
       "    </tr>\n",
       "  </thead>\n",
       "  <tbody>\n",
       "    <tr>\n",
       "      <th>0</th>\n",
       "      <td>1</td>\n",
       "      <td>ok</td>\n",
       "    </tr>\n",
       "    <tr>\n",
       "      <th>1</th>\n",
       "      <td>2</td>\n",
       "      <td>a</td>\n",
       "    </tr>\n",
       "    <tr>\n",
       "      <th>2</th>\n",
       "      <td>3</td>\n",
       "      <td>al</td>\n",
       "    </tr>\n",
       "  </tbody>\n",
       "</table>\n",
       "</div>"
      ],
      "text/plain": [
       "   deez nuts\n",
       "0     1   ok\n",
       "1     2    a\n",
       "2     3   al"
      ]
     },
     "execution_count": 22,
     "metadata": {},
     "output_type": "execute_result"
    }
   ],
   "source": [
    "test"
   ]
  },
  {
   "cell_type": "code",
   "execution_count": 16,
   "id": "3e2ba0b2-524e-475d-83d0-31e5a6ffd7f1",
   "metadata": {},
   "outputs": [],
   "source": [
    "exclude = ['ok']"
   ]
  },
  {
   "cell_type": "code",
   "execution_count": 17,
   "id": "07f0110c-df2d-412d-ac04-02035c3bc132",
   "metadata": {},
   "outputs": [],
   "source": [
    "name_list = test['nuts'].to_list()"
   ]
  },
  {
   "cell_type": "code",
   "execution_count": 24,
   "id": "03601ddf-f070-4a9c-9399-f04cd4f1f7d6",
   "metadata": {},
   "outputs": [
    {
     "data": {
      "text/plain": [
       "['ok', 'a', 'al']"
      ]
     },
     "execution_count": 24,
     "metadata": {},
     "output_type": "execute_result"
    }
   ],
   "source": [
    "name_list"
   ]
  },
  {
   "cell_type": "code",
   "execution_count": 28,
   "id": "4b6dbc9d-4d00-4ca2-8572-62bd865644a7",
   "metadata": {},
   "outputs": [
    {
     "data": {
      "text/plain": [
       "['a', 'al']"
      ]
     },
     "execution_count": 28,
     "metadata": {},
     "output_type": "execute_result"
    }
   ],
   "source": [
    "[item for item in name_list if item not in exclude]"
   ]
  },
  {
   "cell_type": "code",
   "execution_count": 31,
   "id": "139a548c-566e-473f-8ba5-3fad5cc16c61",
   "metadata": {},
   "outputs": [
    {
     "data": {
      "text/plain": [
       "['a', 'ok']"
      ]
     },
     "execution_count": 31,
     "metadata": {},
     "output_type": "execute_result"
    }
   ],
   "source": [
    "from random import sample\n",
    "sample(name_list,2)"
   ]
  },
  {
   "cell_type": "code",
   "execution_count": 32,
   "id": "ef0b4f97-a53c-4ab4-ad09-9075542dee95",
   "metadata": {},
   "outputs": [
    {
     "data": {
      "text/plain": [
       "['ok', 'ok', 'al']"
      ]
     },
     "execution_count": 32,
     "metadata": {},
     "output_type": "execute_result"
    }
   ],
   "source": [
    "['ok', 'ok', 'al']"
   ]
  },
  {
   "cell_type": "code",
   "execution_count": 34,
   "id": "e30a1065-25ea-46fe-9b0d-4f25a87880dc",
   "metadata": {},
   "outputs": [
    {
     "data": {
      "text/plain": [
       "2"
      ]
     },
     "execution_count": 34,
     "metadata": {},
     "output_type": "execute_result"
    }
   ],
   "source": [
    "len(set(['ok', 'ok', 'al']))"
   ]
  }
 ],
 "metadata": {
  "kernelspec": {
   "display_name": "Python 3 (ipykernel)",
   "language": "python",
   "name": "python3"
  },
  "language_info": {
   "codemirror_mode": {
    "name": "ipython",
    "version": 3
   },
   "file_extension": ".py",
   "mimetype": "text/x-python",
   "name": "python",
   "nbconvert_exporter": "python",
   "pygments_lexer": "ipython3",
   "version": "3.11.5"
  }
 },
 "nbformat": 4,
 "nbformat_minor": 5
}
